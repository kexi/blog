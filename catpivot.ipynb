{
 "cells": [
  {
   "cell_type": "code",
   "execution_count": 33,
   "metadata": {
    "collapsed": true
   },
   "outputs": [],
   "source": [
    "import pandas as pd"
   ]
  },
  {
   "cell_type": "code",
   "execution_count": 34,
   "outputs": [
    {
     "data": {
      "text/plain": "   年代  加熱式タバコ  紙巻きタバコ\n0   1       0       0\n1   2       1       1\n2   2       1       0\n3   3       0       1\n4   4       1       1",
      "text/html": "<div>\n<style scoped>\n    .dataframe tbody tr th:only-of-type {\n        vertical-align: middle;\n    }\n\n    .dataframe tbody tr th {\n        vertical-align: top;\n    }\n\n    .dataframe thead th {\n        text-align: right;\n    }\n</style>\n<table border=\"1\" class=\"dataframe\">\n  <thead>\n    <tr style=\"text-align: right;\">\n      <th></th>\n      <th>年代</th>\n      <th>加熱式タバコ</th>\n      <th>紙巻きタバコ</th>\n    </tr>\n  </thead>\n  <tbody>\n    <tr>\n      <th>0</th>\n      <td>1</td>\n      <td>0</td>\n      <td>0</td>\n    </tr>\n    <tr>\n      <th>1</th>\n      <td>2</td>\n      <td>1</td>\n      <td>1</td>\n    </tr>\n    <tr>\n      <th>2</th>\n      <td>2</td>\n      <td>1</td>\n      <td>0</td>\n    </tr>\n    <tr>\n      <th>3</th>\n      <td>3</td>\n      <td>0</td>\n      <td>1</td>\n    </tr>\n    <tr>\n      <th>4</th>\n      <td>4</td>\n      <td>1</td>\n      <td>1</td>\n    </tr>\n  </tbody>\n</table>\n</div>"
     },
     "execution_count": 34,
     "metadata": {},
     "output_type": "execute_result"
    }
   ],
   "source": [
    "df = pd.DataFrame({\"年代\":[1,2,2,3,4], \"加熱式タバコ\": [0,1,1,0,1], \"紙巻きタバコ\": [0,1,0,1,1]})\n",
    "df"
   ],
   "metadata": {
    "collapsed": false,
    "pycharm": {
     "name": "#%%\n"
    }
   }
  },
  {
   "cell_type": "code",
   "execution_count": 35,
   "outputs": [
    {
     "data": {
      "text/plain": "    年代  加熱式タバコ  紙巻きタバコ\n0  10代       0       0\n1  20代       1       1\n2  20代       1       0\n3  30代       0       1\n4  40代       1       1",
      "text/html": "<div>\n<style scoped>\n    .dataframe tbody tr th:only-of-type {\n        vertical-align: middle;\n    }\n\n    .dataframe tbody tr th {\n        vertical-align: top;\n    }\n\n    .dataframe thead th {\n        text-align: right;\n    }\n</style>\n<table border=\"1\" class=\"dataframe\">\n  <thead>\n    <tr style=\"text-align: right;\">\n      <th></th>\n      <th>年代</th>\n      <th>加熱式タバコ</th>\n      <th>紙巻きタバコ</th>\n    </tr>\n  </thead>\n  <tbody>\n    <tr>\n      <th>0</th>\n      <td>10代</td>\n      <td>0</td>\n      <td>0</td>\n    </tr>\n    <tr>\n      <th>1</th>\n      <td>20代</td>\n      <td>1</td>\n      <td>1</td>\n    </tr>\n    <tr>\n      <th>2</th>\n      <td>20代</td>\n      <td>1</td>\n      <td>0</td>\n    </tr>\n    <tr>\n      <th>3</th>\n      <td>30代</td>\n      <td>0</td>\n      <td>1</td>\n    </tr>\n    <tr>\n      <th>4</th>\n      <td>40代</td>\n      <td>1</td>\n      <td>1</td>\n    </tr>\n  </tbody>\n</table>\n</div>"
     },
     "execution_count": 35,
     "metadata": {},
     "output_type": "execute_result"
    }
   ],
   "source": [
    "df[\"年代\"] = pd.Categorical(df[\"年代\"],categories=[1,2,3,4,5,6,7,8,9])\n",
    "df[\"年代\"] = df.年代.cat.rename_categories({\n",
    "    1:\"10代\", 2:\"20代\", 3:\"30代\", 4:\"40代\", 5:\"50代\", 6:\"60代\", 7:\"70代\", 8:\"80代\", 9:\"90代\"\n",
    "})\n",
    "df"
   ],
   "metadata": {
    "collapsed": false,
    "pycharm": {
     "name": "#%%\n"
    }
   }
  },
  {
   "cell_type": "code",
   "execution_count": 36,
   "outputs": [
    {
     "data": {
      "text/plain": "     加熱式タバコ  紙巻きタバコ\n年代                 \n10代       0       0\n20代       2       1\n30代       0       1\n40代       1       1\n50代       0       0\n60代       0       0\n70代       0       0\n80代       0       0\n90代       0       0",
      "text/html": "<div>\n<style scoped>\n    .dataframe tbody tr th:only-of-type {\n        vertical-align: middle;\n    }\n\n    .dataframe tbody tr th {\n        vertical-align: top;\n    }\n\n    .dataframe thead th {\n        text-align: right;\n    }\n</style>\n<table border=\"1\" class=\"dataframe\">\n  <thead>\n    <tr style=\"text-align: right;\">\n      <th></th>\n      <th>加熱式タバコ</th>\n      <th>紙巻きタバコ</th>\n    </tr>\n    <tr>\n      <th>年代</th>\n      <th></th>\n      <th></th>\n    </tr>\n  </thead>\n  <tbody>\n    <tr>\n      <th>10代</th>\n      <td>0</td>\n      <td>0</td>\n    </tr>\n    <tr>\n      <th>20代</th>\n      <td>2</td>\n      <td>1</td>\n    </tr>\n    <tr>\n      <th>30代</th>\n      <td>0</td>\n      <td>1</td>\n    </tr>\n    <tr>\n      <th>40代</th>\n      <td>1</td>\n      <td>1</td>\n    </tr>\n    <tr>\n      <th>50代</th>\n      <td>0</td>\n      <td>0</td>\n    </tr>\n    <tr>\n      <th>60代</th>\n      <td>0</td>\n      <td>0</td>\n    </tr>\n    <tr>\n      <th>70代</th>\n      <td>0</td>\n      <td>0</td>\n    </tr>\n    <tr>\n      <th>80代</th>\n      <td>0</td>\n      <td>0</td>\n    </tr>\n    <tr>\n      <th>90代</th>\n      <td>0</td>\n      <td>0</td>\n    </tr>\n  </tbody>\n</table>\n</div>"
     },
     "execution_count": 36,
     "metadata": {},
     "output_type": "execute_result"
    }
   ],
   "source": [
    "pivot = pd.pivot_table(df, index=\"年代\", values=[\"加熱式タバコ\", \"紙巻きタバコ\"], aggfunc=sum, dropna=False)\n",
    "pivot\n",
    "\n",
    "\n"
   ],
   "metadata": {
    "collapsed": false,
    "pycharm": {
     "name": "#%%\n"
    }
   }
  }
 ],
 "metadata": {
  "kernelspec": {
   "display_name": "Python 3",
   "language": "python",
   "name": "python3"
  },
  "language_info": {
   "codemirror_mode": {
    "name": "ipython",
    "version": 2
   },
   "file_extension": ".py",
   "mimetype": "text/x-python",
   "name": "python",
   "nbconvert_exporter": "python",
   "pygments_lexer": "ipython2",
   "version": "2.7.6"
  }
 },
 "nbformat": 4,
 "nbformat_minor": 0
}